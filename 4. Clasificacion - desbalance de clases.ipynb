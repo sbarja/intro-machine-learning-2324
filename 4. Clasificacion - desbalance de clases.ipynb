{
 "cells": [
  {
   "cell_type": "markdown",
   "id": "e1dccb8b",
   "metadata": {},
   "source": [
    "<img src=\"Figures/top_ML.png\" alt=\"Drawing\" style=\"width: 1000px;\"/>"
   ]
  },
  {
   "cell_type": "markdown",
   "id": "acd3aec8",
   "metadata": {},
   "source": [
    "# Desbalanceo de clases"
   ]
  },
  {
   "cell_type": "markdown",
   "id": "f0fcc31a",
   "metadata": {},
   "source": [
    "<img src=\"Figures/scikit.jpg\" alt=\"Drawing\" style=\"width: 300px;\"/>"
   ]
  },
  {
   "cell_type": "markdown",
   "id": "613e6fc4",
   "metadata": {},
   "source": [
    "https://scikit-learn.org/stable/index.html"
   ]
  },
  {
   "cell_type": "markdown",
   "id": "79b4f993",
   "metadata": {},
   "source": [
    "La variable objetivo (Clase/ Etiqueta) **diabetes_binaria** tiene 2 clases:\n",
    "* 0 es para no tener diabetes\n",
    "* 1 es para prediabetes o diabetes.\n",
    "\n",
    "Este conjunto de datos tiene 21 variables de características y **no está equilibrado**.\n",
    "\n",
    "[Enlace al dataset](#https://www.kaggle.com/datasets/alexteboul/diabetes-health-indicators-dataset)"
   ]
  },
  {
   "cell_type": "markdown",
   "id": "c45e951b",
   "metadata": {},
   "source": [
    "### Cargar librerías"
   ]
  },
  {
   "cell_type": "code",
   "execution_count": null,
   "id": "524ba021",
   "metadata": {},
   "outputs": [],
   "source": [
    "import pandas as pd\n",
    "import numpy as np\n",
    "\n",
    "import matplotlib.pyplot as plt\n",
    "import matplotlib.patches as mpatches\n",
    "import seaborn as sns\n",
    "\n",
    "from sklearn.utils import resample\n",
    "from sklearn.metrics import roc_auc_score,precision_recall_curve,roc_curve\n",
    "from sklearn.model_selection import train_test_split\n",
    "from sklearn.linear_model import LogisticRegression\n",
    "from sklearn.manifold import TSNE\n",
    "from sklearn.decomposition import PCA, TruncatedSVD\n",
    "\n",
    "import time\n",
    "\n",
    "from sklearn.metrics import confusion_matrix\n",
    "import warnings\n",
    "warnings.filterwarnings('ignore')"
   ]
  },
  {
   "cell_type": "markdown",
   "id": "385df777",
   "metadata": {},
   "source": [
    "### Cargar datos"
   ]
  },
  {
   "cell_type": "code",
   "execution_count": null,
   "id": "9d158dc7",
   "metadata": {},
   "outputs": [],
   "source": [
    "data = pd.read_csv('Data/S4_diabetes_desequilibrio_clases.csv')\n",
    "data.head()"
   ]
  },
  {
   "cell_type": "code",
   "execution_count": null,
   "id": "2f2e0a63",
   "metadata": {},
   "outputs": [],
   "source": [
    "data.info()"
   ]
  },
  {
   "cell_type": "markdown",
   "id": "b07d1057",
   "metadata": {},
   "source": [
    "### Visualizar el desequilibrio de clases"
   ]
  },
  {
   "cell_type": "code",
   "execution_count": null,
   "id": "25ce6833",
   "metadata": {},
   "outputs": [],
   "source": [
    "# Contamos cuantas etiquetas hay en la columna 'Diabetes'\n",
    "x = data['Diabetes_binary'].value_counts()\n",
    "x"
   ]
  },
  {
   "cell_type": "code",
   "execution_count": null,
   "id": "8d9055aa",
   "metadata": {},
   "outputs": [],
   "source": [
    "x = data['Diabetes_binary'].value_counts().values\n",
    "x"
   ]
  },
  {
   "cell_type": "code",
   "execution_count": null,
   "id": "714d63fb",
   "metadata": {},
   "outputs": [],
   "source": [
    "# Nombramos las etiquetas para visualizarlas\n",
    "labels = ['No diabetes', 'Diabetes']\n",
    "values = x"
   ]
  },
  {
   "cell_type": "code",
   "execution_count": null,
   "id": "01c02aba",
   "metadata": {},
   "outputs": [],
   "source": [
    "# Creamos un DataFrame\n",
    "df = pd.DataFrame({'Labels': labels, 'Values': values})"
   ]
  },
  {
   "cell_type": "code",
   "execution_count": null,
   "id": "557266c9",
   "metadata": {},
   "outputs": [],
   "source": [
    "# Creamos la gráfica\n",
    "plt.figure(figsize=(8, 6))\n",
    "sns.barplot(x='Labels', y='Values', data=df, palette='viridis') \n",
    "plt.title('Tabla de frecuencia de la Etiqueta')\n",
    "print('Número total de etiquetas: ', x)"
   ]
  },
  {
   "cell_type": "markdown",
   "id": "dc7b1d25",
   "metadata": {},
   "source": [
    "* Es evidente que existe un problema de desequilibrio de clases.\n",
    "* Más adelante en este cuaderno estudiaremos los métodos para resolver este problema."
   ]
  },
  {
   "cell_type": "markdown",
   "id": "000ba4fc",
   "metadata": {},
   "source": [
    "# Soluciones"
   ]
  },
  {
   "cell_type": "markdown",
   "id": "4a22b404",
   "metadata": {},
   "source": [
    "## 1. Resampling \n",
    "\n",
    "Una técnica ampliamente adoptada para tratar conjuntos de datos muy desequilibrados se denomina remuestreo. Consiste en eliminar muestras de la clase mayoritaria (submuestreo) y/o añadir más ejemplos de la clase minoritaria (sobremuestreo).\n",
    "\n",
    "<img src=\"Figures/resampling.png\" alt=\"Drawing\" style=\"width: 800px;\"/>\n"
   ]
  },
  {
   "cell_type": "markdown",
   "id": "cbcba385",
   "metadata": {},
   "source": [
    "### **1.1 Oversampling de la clase minoritaria**\n",
    "\n",
    "El sobremuestreo puede definirse como añadir más copias de la clase minoritaria. El sobremuestreo puede ser una buena opción cuando no se tiene muchos datos con los que trabajar.\n",
    "\n",
    "Utilizaremos el módulo de remuestreo de Scikit-Learn para replicar aleatoriamente muestras de la clase minoritaria."
   ]
  },
  {
   "cell_type": "code",
   "execution_count": null,
   "id": "433bd86e",
   "metadata": {},
   "outputs": [],
   "source": [
    "\n",
    "no_diabetes = data[data.Diabetes_binary == 0]\n",
    "diabetes = data[data.Diabetes_binary == 1]\n",
    "\n",
    "# upsample minority\n",
    "diabetes_upsampled = resample(diabetes,\n",
    "                          replace=True, # sample with replacement\n",
    "                          n_samples=len(no_diabetes), # match number in majority class\n",
    "                          random_state=27) # reproducible results\n",
    "\n",
    "# combine majority and upsampled minority\n",
    "upsampled = pd.concat([no_diabetes, diabetes_upsampled])"
   ]
  },
  {
   "cell_type": "code",
   "execution_count": null,
   "id": "4a2f97cc",
   "metadata": {},
   "outputs": [],
   "source": [
    "upsampled"
   ]
  },
  {
   "cell_type": "code",
   "execution_count": null,
   "id": "a2cc2faf",
   "metadata": {},
   "outputs": [],
   "source": [
    "x = upsampled['Diabetes_binary'].value_counts().values\n",
    "x"
   ]
  },
  {
   "cell_type": "code",
   "execution_count": null,
   "id": "180d038d",
   "metadata": {},
   "outputs": [],
   "source": [
    "# Creamos un DataFrame\n",
    "df_upsampled = pd.DataFrame({'Labels': labels, 'Values': x})\n",
    "\n",
    "# Creamos la gráfica\n",
    "plt.figure(figsize=(8, 6))\n",
    "sns.barplot(x='Labels', y='Values', data=df_upsampled, palette='viridis') \n",
    "plt.title('Tabla de frecuencia de la Etiqueta UPSAMPLED')\n",
    "print('Número total de etiquetas: ', x)"
   ]
  },
  {
   "cell_type": "code",
   "execution_count": null,
   "id": "b16fdc98",
   "metadata": {},
   "outputs": [],
   "source": [
    "# check the dataset\n",
    "upsampled"
   ]
  },
  {
   "cell_type": "markdown",
   "id": "71848f7a",
   "metadata": {},
   "source": [
    "### **1.2 Undersampling la clase mayoritaria**\n",
    "\n",
    "El **submuestreo** puede definirse como la **eliminación de algunas observaciones de la clase mayoritaria**. El submuestreo puede ser una buena opción cuando se dispone de una gran cantidad de datos, por ejemplo, millones de filas. Pero el inconveniente es que estamos eliminando información que puede ser valiosa. Esto podría conducir a un ajuste insuficiente y a una mala generalización en el conjunto de pruebas.\n"
   ]
  },
  {
   "cell_type": "code",
   "execution_count": null,
   "id": "9bd04268",
   "metadata": {},
   "outputs": [],
   "source": [
    "no_diabetes_downsampled = resample(no_diabetes,\n",
    "                                replace = False, # sample without replacement\n",
    "                                n_samples = len(diabetes), # match minority n\n",
    "                                random_state = 27) # reproducible results\n",
    "\n",
    "# combine minority and downsampled majority\n",
    "downsampled = pd.concat([no_diabetes_downsampled, diabetes])\n",
    "\n",
    "# checking counts\n",
    "downsampled.Diabetes_binary.value_counts()"
   ]
  },
  {
   "cell_type": "code",
   "execution_count": null,
   "id": "3b85b4cc",
   "metadata": {},
   "outputs": [],
   "source": [
    "x = downsampled['Diabetes_binary'].value_counts().values\n",
    "x"
   ]
  },
  {
   "cell_type": "code",
   "execution_count": null,
   "id": "4c0535c2",
   "metadata": {},
   "outputs": [],
   "source": [
    "\n",
    "# Creamos un DataFrame\n",
    "df_downsampled = pd.DataFrame({'Labels': labels, 'Values': x})\n",
    "\n",
    "# Creamos la gráfica\n",
    "plt.figure(figsize=(8, 6))\n",
    "sns.barplot(x='Labels', y='Values', data=df_downsampled, palette='viridis') \n",
    "plt.title('Tabla de frecuencia de la Etiqueta DOWNSAMPLED')\n",
    "print('Número total de etiquetas: ', x)"
   ]
  },
  {
   "cell_type": "code",
   "execution_count": null,
   "id": "7b9e5ec0",
   "metadata": {},
   "outputs": [],
   "source": [
    "# check the dataset\n",
    "downsampled"
   ]
  },
  {
   "cell_type": "markdown",
   "id": "15c2e5e8",
   "metadata": {},
   "source": [
    "## 2. Datos sintéticos\n",
    "\n",
    "En la literatura se han propuesto varias técnicas de remuestreo más sofisticadas.\n",
    "\n",
    "Por ejemplo, en el sobremuestreo, en lugar de crear copias exactas de los registros de la clase minoritaria, podemos introducir pequeñas variaciones en esas copias, creando muestras sintéticas más diversas.\n",
    "\n",
    "Vamos a aplicar esta técnica de remuestreo (creación de datos sintéticos), utilizando la biblioteca de Python **[imbalanced-learn](https://imbalanced-learn.org/stable/)**. Es compatible con scikit-learn y forma parte de los proyectos scikit-learn-contrib."
   ]
  },
  {
   "cell_type": "code",
   "execution_count": null,
   "id": "f6debfb0",
   "metadata": {},
   "outputs": [],
   "source": [
    "!pip install -U imbalanced-learn"
   ]
  },
  {
   "cell_type": "code",
   "execution_count": null,
   "id": "72f97f10",
   "metadata": {},
   "outputs": [],
   "source": [
    "import imblearn"
   ]
  },
  {
   "cell_type": "markdown",
   "id": "40535340",
   "metadata": {},
   "source": [
    "### Over-sampling: SMOTE\n",
    "\n",
    "SMOTE (Synthetic Minority Oversampling TEchnique) consiste en sintetizar elementos para la clase minoritaria, basándose en los que ya existen. Funciona eligiendo aleatoriamente un punto de la clase minoritaria y calculando los k vecinos más cercanos para este punto. Los puntos sintéticos se añaden entre el punto elegido y sus vecinos.\n",
    "\n",
    "<img src=\"Figures/SMOTE.png\" alt=\"Drawing\" style=\"width: 800px\"/>\n"
   ]
  },
  {
   "cell_type": "markdown",
   "id": "c5d0452b",
   "metadata": {},
   "source": [
    "## 3. Cambiar la métrica"
   ]
  },
  {
   "cell_type": "markdown",
   "id": "b5f71d70",
   "metadata": {},
   "source": [
    "Como hemos visto anteriormente, el acierto (Accuracy) no es la mejor métrica para evaluar conjuntos de datos desequilibrados, ya que puede ser engañosa. Entre las métricas que pueden proporcionar una mejor visión se encuentran:\n",
    "\n",
    "* **Matriz de confusión**: una tabla que muestra las predicciones correctas y los tipos de predicciones incorrectas.\n",
    "\n",
    "* **Precisión**: el número de verdaderos positivos dividido por todas las predicciones positivas. La precisión también se denomina valor predictivo positivo. Es una medida de la exactitud de un clasificador. Una precisión baja indica un elevado número de falsos positivos.\n",
    "\n",
    "* **Recall**: el número de verdaderos positivos dividido por el número de valores positivos en los datos de prueba.También se denomina sensibilidad o tasa de verdaderos positivos. Es una medida de la exhaustividad de un clasificador. Un recall bajo indica un alto número de falsos negativos.\n",
    "\n",
    "* **Puntuación F1**: la media ponderada de la precisión y la recuperación.\n"
   ]
  },
  {
   "cell_type": "code",
   "execution_count": null,
   "id": "2cb7e7b3",
   "metadata": {},
   "outputs": [],
   "source": []
  }
 ],
 "metadata": {
  "kernelspec": {
   "display_name": "Python 3 (ipykernel)",
   "language": "python",
   "name": "python3"
  },
  "language_info": {
   "codemirror_mode": {
    "name": "ipython",
    "version": 3
   },
   "file_extension": ".py",
   "mimetype": "text/x-python",
   "name": "python",
   "nbconvert_exporter": "python",
   "pygments_lexer": "ipython3",
   "version": "3.11.5"
  }
 },
 "nbformat": 4,
 "nbformat_minor": 5
}
