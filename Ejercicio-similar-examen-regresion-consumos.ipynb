{
 "cells": [
  {
   "attachments": {},
   "cell_type": "markdown",
   "metadata": {},
   "source": [
    "<img src=\"https://raw.githubusercontent.com/sbarja/smart-energy-22-23/main/Figures/top_ML_smart.png\" alt=\"Drawing\" style=\"width: 1100px;\"/>"
   ]
  },
  {
   "cell_type": "markdown",
   "metadata": {},
   "source": [
    "# Ejercicio de aprendizaje supervisado: regresión.\n",
    "\n",
    "## *Predicción de consumo en un edificio para el día siguiente*"
   ]
  },
  {
   "cell_type": "markdown",
   "metadata": {},
   "source": [
    "\n",
    "**Objetivo:** predecir el consumo para el día siguiente de una oficina, con el objetivo de gestionar de manera inteligente esos consumos. Se utilizarán datos históricos de la variable target que queremos predecir (datos históricos de consumo) y de otros atributos (features) que pueden ayudar a predecir modelo, como por ejemplo la temperatura o el día de la semana.\n",
    "\n",
    "**Contexto:** Una oficina quiere conocer cuanto consumirá al día siguiente, para adaptar su consumo a los precios variables de la electricidad."
   ]
  },
  {
   "cell_type": "markdown",
   "metadata": {},
   "source": [
    "### DATA SET\n",
    "\n",
    "\n",
    "Al mismo tiempo, los resultados correspondientes al archivo test (target o consumo previsto) se han dividido en dos partes para hacer una parte de la evaluación pública y otra privada. De esta manera, al subir una solución se mostrará el resultado de la parte pública pero se ocultará el resultado de la evaluación con la parte privada para evitar overfitting. El resultado válido será el obtenido con la evaluación de la parte privada, que se hará pública una vez finalizado el examen. \n",
    "\n",
    "**Ejercicio-regresion-edificio.xlsx**\n",
    "\n",
    "\n",
    "### Features/características \n",
    "* **diasemana**: indica si el día es laborable (lunes a viernes) o findesemana (sábado a domingo).\n",
    "* **temp**: temperatura en (ºC).\n",
    "* **op_nubes**: opacidad de las nubes. Cuanto más alto es este valor, más cubierto está el cielo (%).\n",
    "* **temp_rocio**: temperatura de rocío (ºC).\n",
    "* **irrad**: irradiancia (W/m2)\n",
    "* **precip_agua**: Agua precipitable. Es el total de vapor de agua en la columna atmosférica (mm).\n",
    "* **gen_biomasa**: generación total de biomasa en el mercado diario (kWh).\n",
    "* **empleados**: Número de empleados contratados.\n",
    "* **hum_rel**: Humedad relativa (%).\n",
    "* **visitas_web**: Número de visitas en la web de la empresa.\n",
    "* **presion**: Presión atmosférica.\n",
    "* **dir_viento**: Dirección del viento.\n",
    "* **vel_viento**: Velocidad del viento en m/s. \n",
    "* **vel_viento_2**: Velocidad del viento en km/h.\n",
    "\n",
    "### Target / etiqueta\n",
    "\n",
    "* **consumo**: Consumo del edificio de oficinas en kWh"
   ]
  },
  {
   "cell_type": "markdown",
   "metadata": {},
   "source": [
    "## **1. Importar librerías y datos**\n"
   ]
  },
  {
   "cell_type": "code",
   "execution_count": 1,
   "metadata": {},
   "outputs": [
    {
     "data": {
      "text/html": [
       "<div>\n",
       "<style scoped>\n",
       "    .dataframe tbody tr th:only-of-type {\n",
       "        vertical-align: middle;\n",
       "    }\n",
       "\n",
       "    .dataframe tbody tr th {\n",
       "        vertical-align: top;\n",
       "    }\n",
       "\n",
       "    .dataframe thead th {\n",
       "        text-align: right;\n",
       "    }\n",
       "</style>\n",
       "<table border=\"1\" class=\"dataframe\">\n",
       "  <thead>\n",
       "    <tr style=\"text-align: right;\">\n",
       "      <th></th>\n",
       "      <th>fechahora</th>\n",
       "      <th>diasemana</th>\n",
       "      <th>temp</th>\n",
       "      <th>op_nubes</th>\n",
       "      <th>temp_rocio</th>\n",
       "      <th>irrad</th>\n",
       "      <th>precip_agua</th>\n",
       "      <th>hum_rel</th>\n",
       "      <th>rand</th>\n",
       "      <th>presion</th>\n",
       "      <th>dir_viento</th>\n",
       "      <th>vel_viento</th>\n",
       "      <th>vel_viento_2</th>\n",
       "      <th>consumo</th>\n",
       "    </tr>\n",
       "  </thead>\n",
       "  <tbody>\n",
       "    <tr>\n",
       "      <th>0</th>\n",
       "      <td>2020-03-01 00:00:00</td>\n",
       "      <td>findesemana</td>\n",
       "      <td>12.6</td>\n",
       "      <td>20.5</td>\n",
       "      <td>6.8</td>\n",
       "      <td>0.0</td>\n",
       "      <td>18.4</td>\n",
       "      <td>68.1</td>\n",
       "      <td>93854</td>\n",
       "      <td>979.3</td>\n",
       "      <td>121</td>\n",
       "      <td>1.4</td>\n",
       "      <td>5.04</td>\n",
       "      <td>4.269</td>\n",
       "    </tr>\n",
       "    <tr>\n",
       "      <th>1</th>\n",
       "      <td>2020-03-01 01:00:00</td>\n",
       "      <td>findesemana</td>\n",
       "      <td>11.8</td>\n",
       "      <td>21.6</td>\n",
       "      <td>7.5</td>\n",
       "      <td>0.0</td>\n",
       "      <td>18.4</td>\n",
       "      <td>74.8</td>\n",
       "      <td>4852</td>\n",
       "      <td>979.1</td>\n",
       "      <td>121</td>\n",
       "      <td>2.1</td>\n",
       "      <td>7.56</td>\n",
       "      <td>4.246</td>\n",
       "    </tr>\n",
       "    <tr>\n",
       "      <th>2</th>\n",
       "      <td>2020-03-01 02:00:00</td>\n",
       "      <td>findesemana</td>\n",
       "      <td>11.0</td>\n",
       "      <td>25.1</td>\n",
       "      <td>7.7</td>\n",
       "      <td>0.0</td>\n",
       "      <td>18.2</td>\n",
       "      <td>80.3</td>\n",
       "      <td>5365</td>\n",
       "      <td>978.5</td>\n",
       "      <td>125</td>\n",
       "      <td>2.1</td>\n",
       "      <td>7.56</td>\n",
       "      <td>4.261</td>\n",
       "    </tr>\n",
       "    <tr>\n",
       "      <th>3</th>\n",
       "      <td>2020-03-01 03:00:00</td>\n",
       "      <td>findesemana</td>\n",
       "      <td>10.5</td>\n",
       "      <td>58.0</td>\n",
       "      <td>7.6</td>\n",
       "      <td>0.0</td>\n",
       "      <td>17.9</td>\n",
       "      <td>82.5</td>\n",
       "      <td>4867</td>\n",
       "      <td>978.3</td>\n",
       "      <td>130</td>\n",
       "      <td>1.7</td>\n",
       "      <td>6.12</td>\n",
       "      <td>4.232</td>\n",
       "    </tr>\n",
       "    <tr>\n",
       "      <th>4</th>\n",
       "      <td>2020-03-01 04:00:00</td>\n",
       "      <td>findesemana</td>\n",
       "      <td>10.4</td>\n",
       "      <td>53.8</td>\n",
       "      <td>7.7</td>\n",
       "      <td>0.0</td>\n",
       "      <td>18.9</td>\n",
       "      <td>83.4</td>\n",
       "      <td>4131</td>\n",
       "      <td>978.5</td>\n",
       "      <td>144</td>\n",
       "      <td>1.8</td>\n",
       "      <td>6.48</td>\n",
       "      <td>4.237</td>\n",
       "    </tr>\n",
       "    <tr>\n",
       "      <th>...</th>\n",
       "      <td>...</td>\n",
       "      <td>...</td>\n",
       "      <td>...</td>\n",
       "      <td>...</td>\n",
       "      <td>...</td>\n",
       "      <td>...</td>\n",
       "      <td>...</td>\n",
       "      <td>...</td>\n",
       "      <td>...</td>\n",
       "      <td>...</td>\n",
       "      <td>...</td>\n",
       "      <td>...</td>\n",
       "      <td>...</td>\n",
       "      <td>...</td>\n",
       "    </tr>\n",
       "    <tr>\n",
       "      <th>9400</th>\n",
       "      <td>2021-03-27 17:00:00</td>\n",
       "      <td>findesemana</td>\n",
       "      <td>12.6</td>\n",
       "      <td>51.4</td>\n",
       "      <td>7.8</td>\n",
       "      <td>39.0</td>\n",
       "      <td>15.2</td>\n",
       "      <td>72.4</td>\n",
       "      <td>5076</td>\n",
       "      <td>996.4</td>\n",
       "      <td>176</td>\n",
       "      <td>2.1</td>\n",
       "      <td>7.56</td>\n",
       "      <td>8.175</td>\n",
       "    </tr>\n",
       "    <tr>\n",
       "      <th>9401</th>\n",
       "      <td>2021-03-27 18:00:00</td>\n",
       "      <td>findesemana</td>\n",
       "      <td>11.7</td>\n",
       "      <td>93.4</td>\n",
       "      <td>7.7</td>\n",
       "      <td>0.0</td>\n",
       "      <td>14.7</td>\n",
       "      <td>76.6</td>\n",
       "      <td>6478</td>\n",
       "      <td>996.7</td>\n",
       "      <td>188</td>\n",
       "      <td>1.7</td>\n",
       "      <td>6.12</td>\n",
       "      <td>7.812</td>\n",
       "    </tr>\n",
       "    <tr>\n",
       "      <th>9402</th>\n",
       "      <td>2021-03-27 19:00:00</td>\n",
       "      <td>findesemana</td>\n",
       "      <td>11.1</td>\n",
       "      <td>95.7</td>\n",
       "      <td>7.5</td>\n",
       "      <td>0.0</td>\n",
       "      <td>14.1</td>\n",
       "      <td>78.9</td>\n",
       "      <td>9067</td>\n",
       "      <td>997.1</td>\n",
       "      <td>204</td>\n",
       "      <td>1.3</td>\n",
       "      <td>4.68</td>\n",
       "      <td>7.863</td>\n",
       "    </tr>\n",
       "    <tr>\n",
       "      <th>9403</th>\n",
       "      <td>2021-03-27 20:00:00</td>\n",
       "      <td>findesemana</td>\n",
       "      <td>10.6</td>\n",
       "      <td>94.9</td>\n",
       "      <td>7.3</td>\n",
       "      <td>0.0</td>\n",
       "      <td>13.7</td>\n",
       "      <td>80.0</td>\n",
       "      <td>8624</td>\n",
       "      <td>997.4</td>\n",
       "      <td>211</td>\n",
       "      <td>1.2</td>\n",
       "      <td>4.32</td>\n",
       "      <td>10.384</td>\n",
       "    </tr>\n",
       "    <tr>\n",
       "      <th>9404</th>\n",
       "      <td>2021-03-27 21:00:00</td>\n",
       "      <td>findesemana</td>\n",
       "      <td>10.4</td>\n",
       "      <td>92.1</td>\n",
       "      <td>7.3</td>\n",
       "      <td>0.0</td>\n",
       "      <td>13.4</td>\n",
       "      <td>80.9</td>\n",
       "      <td>8771</td>\n",
       "      <td>997.6</td>\n",
       "      <td>220</td>\n",
       "      <td>1.1</td>\n",
       "      <td>3.96</td>\n",
       "      <td>8.904</td>\n",
       "    </tr>\n",
       "  </tbody>\n",
       "</table>\n",
       "<p>9405 rows × 14 columns</p>\n",
       "</div>"
      ],
      "text/plain": [
       "               fechahora    diasemana  temp  op_nubes  temp_rocio  irrad  \\\n",
       "0    2020-03-01 00:00:00  findesemana  12.6      20.5         6.8    0.0   \n",
       "1    2020-03-01 01:00:00  findesemana  11.8      21.6         7.5    0.0   \n",
       "2    2020-03-01 02:00:00  findesemana  11.0      25.1         7.7    0.0   \n",
       "3    2020-03-01 03:00:00  findesemana  10.5      58.0         7.6    0.0   \n",
       "4    2020-03-01 04:00:00  findesemana  10.4      53.8         7.7    0.0   \n",
       "...                  ...          ...   ...       ...         ...    ...   \n",
       "9400 2021-03-27 17:00:00  findesemana  12.6      51.4         7.8   39.0   \n",
       "9401 2021-03-27 18:00:00  findesemana  11.7      93.4         7.7    0.0   \n",
       "9402 2021-03-27 19:00:00  findesemana  11.1      95.7         7.5    0.0   \n",
       "9403 2021-03-27 20:00:00  findesemana  10.6      94.9         7.3    0.0   \n",
       "9404 2021-03-27 21:00:00  findesemana  10.4      92.1         7.3    0.0   \n",
       "\n",
       "      precip_agua  hum_rel   rand  presion  dir_viento  vel_viento  \\\n",
       "0            18.4     68.1  93854    979.3         121         1.4   \n",
       "1            18.4     74.8   4852    979.1         121         2.1   \n",
       "2            18.2     80.3   5365    978.5         125         2.1   \n",
       "3            17.9     82.5   4867    978.3         130         1.7   \n",
       "4            18.9     83.4   4131    978.5         144         1.8   \n",
       "...           ...      ...    ...      ...         ...         ...   \n",
       "9400         15.2     72.4   5076    996.4         176         2.1   \n",
       "9401         14.7     76.6   6478    996.7         188         1.7   \n",
       "9402         14.1     78.9   9067    997.1         204         1.3   \n",
       "9403         13.7     80.0   8624    997.4         211         1.2   \n",
       "9404         13.4     80.9   8771    997.6         220         1.1   \n",
       "\n",
       "      vel_viento_2  consumo  \n",
       "0             5.04    4.269  \n",
       "1             7.56    4.246  \n",
       "2             7.56    4.261  \n",
       "3             6.12    4.232  \n",
       "4             6.48    4.237  \n",
       "...            ...      ...  \n",
       "9400          7.56    8.175  \n",
       "9401          6.12    7.812  \n",
       "9402          4.68    7.863  \n",
       "9403          4.32   10.384  \n",
       "9404          3.96    8.904  \n",
       "\n",
       "[9405 rows x 14 columns]"
      ]
     },
     "execution_count": 1,
     "metadata": {},
     "output_type": "execute_result"
    }
   ],
   "source": [
    "# Importamos las librerías necesarias\n",
    "\n",
    "    ### Escribe aquí tu código ###\n",
    "\n",
    "    \n",
    "# Cargamos el conjunto de datos de entrada\n",
    "# data = pd.read_excel('XXXXX')\n"
   ]
  },
  {
   "cell_type": "markdown",
   "metadata": {},
   "source": [
    "## **2. Comprender los datos**\n",
    "\n",
    "Es necesario visualizar y comprender los datos con los que vamos a trabajar, así como conocer sus características. \n",
    "\n",
    "1. ¿Cuántos datos hay? ¿Cuántos atributos hay en los datos?  \n",
    "2. Resumen estadístico del conjunto de datos de entrada.\n",
    "3. ¿Falta algún dato?"
   ]
  },
  {
   "cell_type": "markdown",
   "metadata": {},
   "source": [
    "**1. ¿Cuántos datos hay?**  **¿Cuántos atributos hay en los datos?** "
   ]
  },
  {
   "cell_type": "code",
   "execution_count": 2,
   "metadata": {},
   "outputs": [],
   "source": [
    "# Filasxcolumnas de los datos\n",
    "\n",
    "    ### Escribe aquí tu código ###\n"
   ]
  },
  {
   "cell_type": "code",
   "execution_count": 3,
   "metadata": {},
   "outputs": [],
   "source": [
    "# Observa las primeras 5 filas de los datos para ver como son. \n",
    "\n",
    "    ### Escribe aquí tu código ###\n",
    "    "
   ]
  },
  {
   "cell_type": "code",
   "execution_count": 5,
   "metadata": {},
   "outputs": [],
   "source": [
    "# Formato de los datos: (enteros, obj, string, etc.)\n",
    "\n",
    "    ### Escribe aquí tu código ###\n",
    "    "
   ]
  },
  {
   "cell_type": "markdown",
   "metadata": {},
   "source": [
    "**2. Resumen estadístico del conjunto de datos de entrada:** La estadística descriptiva recolecta y analiza el conjunto de datos de entrada con el objetivo de describir las características y comportamientos de este conjunto mediante las siguientes medidas resumen: número total de observaciones (count), media (mean), desviación estándar (std), valor mínimo (min), valor máximo (max) y los valores de los diferentes cuartiles (25%, 50%, 75%)."
   ]
  },
  {
   "cell_type": "code",
   "execution_count": 8,
   "metadata": {},
   "outputs": [],
   "source": [
    "# Datos estadísticos de cada uno de los atributos\n",
    "\n",
    "    ### Escribe aquí tu código ###\n",
    "    "
   ]
  },
  {
   "cell_type": "markdown",
   "metadata": {},
   "source": [
    "## **3. Visualizar los datos**\n",
    "\n",
    "Una manera visual de entender los datos de entrada es mendiante la visualización de las siguientes gráficas. \n",
    "1. Histograma.\n",
    "2. Curva de densidad.\n",
    "3. Boxplots.\n",
    "4. Matriz de correlación.\n"
   ]
  },
  {
   "cell_type": "markdown",
   "metadata": {},
   "source": [
    "**1. Histograma**\n",
    "\n",
    "Respresentación gráfica de cada uno de los atributos en forma de barras, donde la superficie de la barra es proporcional a la frecuencia de los valores representados."
   ]
  },
  {
   "cell_type": "code",
   "execution_count": 9,
   "metadata": {},
   "outputs": [],
   "source": [
    "    ### Escribe aquí tu código ###"
   ]
  },
  {
   "cell_type": "markdown",
   "metadata": {},
   "source": [
    "**2. Gráfico de densidades**\n",
    "\n",
    "Visualiza la distribución de los datos. Es una variable del histograma, pero elimina el ruido, por lo que son mejores para determinar la forma de distribución de un atributo. Lo spicos del gráfico de densidad ayudan a mostrar dónde los valores se concentran más. "
   ]
  },
  {
   "cell_type": "code",
   "execution_count": 10,
   "metadata": {},
   "outputs": [],
   "source": [
    "    ### Escribe aquí tu código ###"
   ]
  },
  {
   "cell_type": "markdown",
   "metadata": {},
   "source": [
    "**3. Boxplots** \n",
    "\n",
    "El boxplot (diagrama de caja) nos permite identificar los valores atípicos y comparar distribuciones. Además, se conoce como se distribuyen el 50% de los valores (dentro de la caja)."
   ]
  },
  {
   "cell_type": "code",
   "execution_count": 11,
   "metadata": {},
   "outputs": [],
   "source": [
    "    ### Escribe aquí tu código ###"
   ]
  },
  {
   "cell_type": "markdown",
   "metadata": {},
   "source": [
    "**4. Matriz de correlación** \n",
    "\n",
    "* ¿Qué característica(s) **no** tiene(n) ninguna correlación con la variable target? \n"
   ]
  },
  {
   "cell_type": "code",
   "execution_count": 12,
   "metadata": {},
   "outputs": [],
   "source": [
    "# Cálculo de coeficientes de correlación\n",
    "\n",
    "    ### Escribe aquí tu código ###\n",
    "\n",
    "# Matriz de correlación\n",
    "\n",
    "    ### Escribe aquí tu código ###"
   ]
  },
  {
   "cell_type": "markdown",
   "metadata": {},
   "source": [
    "## *4. Preparar los datos*\n",
    "\n",
    "1. Faltan datos?\n",
    "2. Dividir en X e y\n",
    "3. LabelEncoding (si existen datos categóricos).\n",
    "4. Feature engineering (proceso iterativo).\n",
    "5. Transformación (escalado)."
   ]
  },
  {
   "cell_type": "markdown",
   "metadata": {},
   "source": [
    "**1. ¿Falta algún dato? Comprobar si hay algun missing data (Nan, null...)** "
   ]
  },
  {
   "cell_type": "code",
   "execution_count": 6,
   "metadata": {},
   "outputs": [],
   "source": [
    "# Comprobar si falta algún dato y en qué atributo\n",
    "\n",
    "    ### Escribe aquí tu código ###\n",
    "    "
   ]
  },
  {
   "cell_type": "markdown",
   "metadata": {},
   "source": [
    "Si faltan datos, completa las casillas vacias con el siguiente método de pandas *X.fillna(method='XXXX', inplace=True)* \n",
    "\n",
    "Más info: https://pandas.pydata.org/docs/reference/api/pandas.DataFrame.fillna.html"
   ]
  },
  {
   "cell_type": "code",
   "execution_count": 1,
   "metadata": {},
   "outputs": [],
   "source": [
    "# Si falta algún dato, imputar valores \n",
    "\n",
    "    ### Escribe aquí tu código ###\n",
    "    "
   ]
  },
  {
   "cell_type": "markdown",
   "metadata": {},
   "source": [
    "**2. Divido los datos en *atributos*: **X** (features) y *etiquetas*: **y** (target)"
   ]
  },
  {
   "cell_type": "code",
   "execution_count": 13,
   "metadata": {},
   "outputs": [],
   "source": [
    "# Atributos X (features); etiquetas y (target)\n",
    "\n",
    "    ### Escribe aquí tu código ###"
   ]
  },
  {
   "cell_type": "markdown",
   "metadata": {},
   "source": [
    "**3. Label encoding** \n",
    "\n",
    "Transforma los datos categóricos o string a numéricos si los hubiera. Utiliza **LabelEncoder()** \n",
    "\n",
    "Más info: https://scikit-learn.org/stable/modules/generated/sklearn.preprocessing.LabelEncoder.html"
   ]
  },
  {
   "cell_type": "code",
   "execution_count": 1,
   "metadata": {},
   "outputs": [],
   "source": [
    "# Transforma los datos catergóricos a numéricos.\n",
    "\n",
    "    ### Escribe aquí tu código ###"
   ]
  },
  {
   "cell_type": "markdown",
   "metadata": {},
   "source": [
    "**4. Feature engineering**\n",
    "\n",
    "Observando la matriz de correlación, **eliminar los atributos/características que no tengan ninguna correlación con la variable target (y), o uno que tenga una muy alta correlación con otro atributo, por ejemplo**. PCA, feature importance...\n"
   ]
  },
  {
   "cell_type": "code",
   "execution_count": 25,
   "metadata": {},
   "outputs": [],
   "source": [
    "# Elimino el atributo que tiene correlación 0 con el resto de características.\n",
    "\n",
    "    ### Escribe aquí tu código ###"
   ]
  },
  {
   "cell_type": "markdown",
   "metadata": {},
   "source": [
    "## *5. Dividir los datos*\n",
    "\n",
    "Dividir los datos en:\n",
    "* X_train, y_train //X_val, y_val\n",
    "* X-test, y_test"
   ]
  },
  {
   "cell_type": "code",
   "execution_count": 2,
   "metadata": {},
   "outputs": [],
   "source": [
    "# Dividir los datos en datos de entreno y validación\n",
    "\n",
    "    ### Escribe aquí tu código ###"
   ]
  },
  {
   "cell_type": "markdown",
   "metadata": {},
   "source": [
    "**5. Transformación (escalado)**. \n",
    "\n",
    "* **Si lo estimais oportuno**, escalar los datos utilizando un método de escalado **(StandardScaler()/MinMaxScaler())**"
   ]
  },
  {
   "cell_type": "code",
   "execution_count": 2,
   "metadata": {
    "scrolled": true
   },
   "outputs": [],
   "source": [
    "# Escalado de datos (si procede)\n",
    "\n",
    "    ### Escribe aquí tu código ###"
   ]
  },
  {
   "cell_type": "markdown",
   "metadata": {},
   "source": [
    "## *6. Construcción y evaluación de modelos*"
   ]
  },
  {
   "cell_type": "markdown",
   "metadata": {},
   "source": [
    "* Selecciona **MSE** como métrica de evaluación. \n",
    "* Evalúa los algoritmos de regresión utilizados en la sesión 5 que estimes oportunos. Puedes buscar más en la librería scikitlearn. \n",
    "\n",
    "More info: https://scikit-learn.org/stable/supervised_learning.html\n"
   ]
  },
  {
   "cell_type": "code",
   "execution_count": 3,
   "metadata": {},
   "outputs": [],
   "source": [
    "# Importar librerías\n",
    "    ### Escribe aquí tu código ###\n",
    "\n",
    "# Establece el n_folds\n",
    "    ### Escribe aquí tu código ###\n",
    "\n",
    "# Guarda los resultados de las métricas de evaluación (MSE)\n",
    "# error_metrics = {'neg_mean_squared_error'}\n",
    "    \n",
    "# Nombre de cada algoritmo\n",
    "    ### Escribe aquí tu código ###\n",
    "    \n",
    "    \n",
    "# Imprime el resumen del método de cross-validation\n",
    "\n",
    "# results = [] # guarda los resultados de las métricas de evaluación\n",
    "# names = []  # Nombre de cada algoritmo\n",
    "# msg = []  # imprime el resumen del método de cross-validation\n",
    "    "
   ]
  },
  {
   "cell_type": "markdown",
   "metadata": {},
   "source": [
    "* **¿Cuál obtiene mejores resultados?** "
   ]
  },
  {
   "cell_type": "code",
   "execution_count": 29,
   "metadata": {
    "scrolled": true
   },
   "outputs": [],
   "source": [
    "# importar librerías\n",
    "    ### Escribe aquí tu código ###\n",
    "\n",
    "    \n",
    "# Entreno con validación cruzada\n",
    "    ### Escribe aquí tu código ###\n",
    "\n",
    "    \n",
    "    # Comparar resultados entre algoritmos\n",
    "    ### Escribe aquí tu código ###"
   ]
  },
  {
   "cell_type": "markdown",
   "metadata": {},
   "source": [
    "## *7. Ajustar hiperparámetros*\n",
    "\n",
    "Pasos para realizar el hiperajuste de los parámetros:\n",
    "\n",
    "* Métrica para optimizar: **MSE**\n",
    "* Definir los rangos de los parámetros de búsqueda que estimes oportunos: *params*"
   ]
  },
  {
   "cell_type": "code",
   "execution_count": 4,
   "metadata": {},
   "outputs": [],
   "source": [
    "# Ajustar los hiperparámetros del algoritmo que os ha dado mejores resultados en el training\n",
    "\n",
    "    ### Escribe aquí tu código ###"
   ]
  },
  {
   "cell_type": "markdown",
   "metadata": {},
   "source": [
    "## *8. Evaluación final del modelo*\n",
    "\n"
   ]
  },
  {
   "cell_type": "markdown",
   "metadata": {},
   "source": [
    "Métricas de evaluación:\n",
    "  * MSE\n",
    "    \n",
    "**Entrena el modelo con los hiperparámetros óptimos encontrados en el apartado anterior y realiza las predicciones (y_predict).** "
   ]
  },
  {
   "cell_type": "code",
   "execution_count": 5,
   "metadata": {},
   "outputs": [],
   "source": [
    "# Entrena al modelo seleccionado con los hiperparámetros seleccionados y realiza las predicciones\n",
    "\n",
    "    ### Escribe aquí tu código ###\n"
   ]
  }
 ],
 "metadata": {
  "kernelspec": {
   "display_name": "Python 3 (ipykernel)",
   "language": "python",
   "name": "python3"
  },
  "language_info": {
   "codemirror_mode": {
    "name": "ipython",
    "version": 3
   },
   "file_extension": ".py",
   "mimetype": "text/x-python",
   "name": "python",
   "nbconvert_exporter": "python",
   "pygments_lexer": "ipython3",
   "version": "3.10.13"
  }
 },
 "nbformat": 4,
 "nbformat_minor": 4
}
